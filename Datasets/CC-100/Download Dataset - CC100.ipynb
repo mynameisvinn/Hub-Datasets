{
 "cells": [
  {
   "cell_type": "code",
   "execution_count": 6,
   "metadata": {},
   "outputs": [],
   "source": [
    "from cord19 import Retrieve"
   ]
  },
  {
   "cell_type": "code",
   "execution_count": 2,
   "metadata": {},
   "outputs": [],
   "source": [
    "url = 'http://data.statmt.org/cc-100/en.txt.xz'"
   ]
  },
  {
   "cell_type": "code",
   "execution_count": 3,
   "metadata": {},
   "outputs": [
    {
     "data": {
      "text/plain": [
       "('zip.tgz', <http.client.HTTPMessage at 0x7f998a75eb50>)"
      ]
     },
     "execution_count": 3,
     "metadata": {},
     "output_type": "execute_result"
    }
   ],
   "source": [
    "R = Retrieve()\n",
    "R.fetch(url)"
   ]
  },
  {
   "cell_type": "code",
   "execution_count": 6,
   "metadata": {},
   "outputs": [],
   "source": [
    "R.unpack('sink.tgz')"
   ]
  },
  {
   "cell_type": "code",
   "execution_count": 39,
   "metadata": {},
   "outputs": [],
   "source": [
    "R.unpack('unzipped/2020-03-13/pmc_custom_license.tar.gz')"
   ]
  },
  {
   "cell_type": "code",
   "execution_count": 4,
   "metadata": {},
   "outputs": [
    {
     "data": {
      "text/plain": [
       "['unzipped/pmc_custom_license/8f8eb4f004c2002face0723f2f58cc411954d36e.json',\n",
       " 'unzipped/pmc_custom_license/63f7049d200896290b38b38711113054f7ea1b50.json',\n",
       " 'unzipped/pmc_custom_license/4df45b8404d9de0b376a8ae3c282a517df36fe51.json',\n",
       " 'unzipped/pmc_custom_license/e0737ee93afe7b0bf06b1e3f9adf21d541dd10f0.json']"
      ]
     },
     "execution_count": 4,
     "metadata": {},
     "output_type": "execute_result"
    }
   ],
   "source": [
    "files = glob(\"unzipped/pmc_custom_license/*\")\n",
    "files[:4]"
   ]
  },
  {
   "cell_type": "code",
   "execution_count": 44,
   "metadata": {},
   "outputs": [],
   "source": [
    "my_schema = {\n",
    "    'data': dict\n",
    "    }\n",
    "\n",
    "url = \"mynameisvinn/test\""
   ]
  },
  {
   "cell_type": "code",
   "execution_count": 45,
   "metadata": {},
   "outputs": [
    {
     "name": "stdout",
     "output_type": "stream",
     "text": [
      "10\n"
     ]
    },
    {
     "name": "stderr",
     "output_type": "stream",
     "text": [
      "10it [00:00, 265.08it/s]\n"
     ]
    },
    {
     "name": "stdout",
     "output_type": "stream",
     "text": [
      "8f8eb4f004c2002face0723f2f58cc411954d36e\n",
      "63f7049d200896290b38b38711113054f7ea1b50\n",
      "4df45b8404d9de0b376a8ae3c282a517df36fe51\n",
      "e0737ee93afe7b0bf06b1e3f9adf21d541dd10f0\n",
      "3c3572ba243d61e7631725669c8f88347fdbd5bc\n",
      "b277e521eb43fedeb50a08be126e76dd9bc7314a\n",
      "4cb9c6ef889605b3149ab8b59c8258074067ba04\n",
      "11a21be0569b11edf62c871f9e2561a2a5389006\n",
      "cf3640a2e06457c47beac679ac651bc69f7c9521\n",
      "12e736a64e6f0562c5360b81802cb2641033a769\n"
     ]
    }
   ],
   "source": [
    "R.push(schema=my_schema, files=files[:10])"
   ]
  },
  {
   "cell_type": "code",
   "execution_count": null,
   "metadata": {},
   "outputs": [],
   "source": []
  }
 ],
 "metadata": {
  "kernelspec": {
   "display_name": "Python 3",
   "language": "python",
   "name": "python3"
  },
  "language_info": {
   "codemirror_mode": {
    "name": "ipython",
    "version": 3
   },
   "file_extension": ".py",
   "mimetype": "text/x-python",
   "name": "python",
   "nbconvert_exporter": "python",
   "pygments_lexer": "ipython3",
   "version": "3.8.3"
  }
 },
 "nbformat": 4,
 "nbformat_minor": 4
}
