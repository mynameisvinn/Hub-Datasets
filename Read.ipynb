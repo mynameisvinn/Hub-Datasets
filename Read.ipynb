{
 "cells": [
  {
   "cell_type": "code",
   "execution_count": 3,
   "metadata": {},
   "outputs": [],
   "source": [
    "import hub"
   ]
  },
  {
   "cell_type": "code",
   "execution_count": 5,
   "metadata": {},
   "outputs": [
    {
     "data": {
      "text/plain": [
       "Dataset(schema=SchemaDict({'text': Text(shape=(None,), dtype='int64', max_shape=(10000000,))})url='mynameisvinn/pile', shape=(101,), mode='a')"
      ]
     },
     "execution_count": 5,
     "metadata": {},
     "output_type": "execute_result"
    }
   ],
   "source": [
    "tag = \"mynameisvinn/pile\"\n",
    "ds = hub.load(tag)\n",
    "ds"
   ]
  },
  {
   "cell_type": "code",
   "execution_count": 6,
   "metadata": {},
   "outputs": [
    {
     "data": {
      "text/plain": [
       "\"Suzanne:\\nThanks.  I just want to make sure that my vacation time gets paid at 100% \\nbefore I go down to the 90% level.  Thanks for taking care of this.  As you \\ncan see, I now have access to my e-mail so when I'm not pumping, feeding, \\nchanging diapers, etc...  I acn be checking up on things!!!\\n\\nCarol St. Clair\\nEB 3892\\n713-853-3989 (Phone)\\n713-646-3393 (Fax)\\ncarol.st.clair@enron.com\\n\\n\\n\\n\\tSuzanne Adams\\n\\t07/18/00 05:22 PM\\n\\t\\t\\n\\t\\t To: Carol St Clair/HOU/ECT@ECT\\n\\t\\t cc: Taffy Milligan/HOU/ECT@ECT\\n\\t\\t Subject: Re: Carol St. Clair\\n\\nCarol, I turn it in as sick and Taffy will code it how I turn it in.  I've \\ngot it all on the calendar, so it's taken care of.\""
      ]
     },
     "execution_count": 6,
     "metadata": {},
     "output_type": "execute_result"
    }
   ],
   "source": [
    "ds['text', 10].compute()"
   ]
  },
  {
   "cell_type": "code",
   "execution_count": null,
   "metadata": {},
   "outputs": [],
   "source": []
  }
 ],
 "metadata": {
  "kernelspec": {
   "display_name": "Python 3",
   "language": "python",
   "name": "python3"
  },
  "language_info": {
   "codemirror_mode": {
    "name": "ipython",
    "version": 3
   },
   "file_extension": ".py",
   "mimetype": "text/x-python",
   "name": "python",
   "nbconvert_exporter": "python",
   "pygments_lexer": "ipython3",
   "version": "3.8.3"
  }
 },
 "nbformat": 4,
 "nbformat_minor": 4
}
